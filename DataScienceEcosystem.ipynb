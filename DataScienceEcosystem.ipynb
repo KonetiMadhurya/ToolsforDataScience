{
 "cells": [
  {
   "cell_type": "markdown",
   "id": "32a6b64a-0c2e-41e9-b600-6d5d86f52704",
   "metadata": {},
   "source": [
    "# Data Science Tools and Ecosystem"
   ]
  },
  {
   "cell_type": "markdown",
   "id": "da106cf3-26d8-4574-84ba-2e47bc188202",
   "metadata": {},
   "source": [
    "In this notebook, Data Science Tools and Ecosystem are summarized."
   ]
  },
  {
   "cell_type": "markdown",
   "id": "ade40691-e954-48ce-a5d6-3c79429d9226",
   "metadata": {},
   "source": [
    "Some of the popular languages that Data Scientists use are:\n",
    "\n",
    "1. Python\n",
    "2. R\n",
    "3. SQL\n",
    "4. Scala\n",
    "5. Java\n",
    "6. C++\n",
    "7. Julia\n",
    "8. JS\n",
    "9. PHP\n",
    "10. GO\n",
    "11. Ruby\n",
    "12. Visual Basic"
   ]
  },
  {
   "cell_type": "markdown",
   "id": "65593401-6050-460d-902b-ae786d1f88c2",
   "metadata": {},
   "source": [
    "Some of the commonly used libraries used by Data Scientists include:\n",
    "\n",
    "1. Numpy\n",
    "2. Pandas\n",
    "3. Matplotlib\n",
    "4. Scipy\n",
    "5. Seaborn\n",
    "6. Scikit-learn\n",
    "7. Tensorflow\n",
    "8. Keras"
   ]
  },
  {
   "cell_type": "markdown",
   "id": "76affa25-7b12-4648-a61d-be7ae3db1077",
   "metadata": {},
   "source": [
    "### Below are a few examples of evaluating arithmetic expressions in Python\n",
    "| Data Science Tools |\n",
    "| ------------------ |\n",
    "| Jupyter Lab |\n",
    "| Jupyter Notebook |\n",
    "| Anaconda |\n",
    "| Goggle Colab |\n",
    "| R Studio | "
   ]
  },
  {
   "cell_type": "markdown",
   "id": "9842b7f2-ba1c-4516-ac8d-487c21a516b0",
   "metadata": {},
   "source": [
    "### Below are a few examples of evaluating arithmetic expressions in Python.\n",
    "\n"
   ]
  },
  {
   "cell_type": "code",
   "execution_count": 4,
   "id": "5cb4617c-cbcb-4c03-a30b-336b225556f4",
   "metadata": {},
   "outputs": [
    {
     "data": {
      "text/plain": [
       "17"
      ]
     },
     "execution_count": 4,
     "metadata": {},
     "output_type": "execute_result"
    }
   ],
   "source": [
    "# This a simple arithmetic expression to mutiply then add integers\n",
    "(3*4)+5"
   ]
  },
  {
   "cell_type": "code",
   "execution_count": 5,
   "id": "1c28f4e0-5234-4d05-b03b-030aba12c8d0",
   "metadata": {},
   "outputs": [
    {
     "data": {
      "text/plain": [
       "3.3333333333333335"
      ]
     },
     "execution_count": 5,
     "metadata": {},
     "output_type": "execute_result"
    }
   ],
   "source": [
    "# This will convert 200 minutes to hours by diving by 60\n",
    "200/60"
   ]
  },
  {
   "cell_type": "markdown",
   "id": "c23e7948-0182-427b-bbd7-574ae65c8b5d",
   "metadata": {},
   "source": [
    "**Objectives:**\n",
    "- Popular Languages of data science\n",
    "- datascience tools\n",
    "- Categories of data science tools\n",
    "- API's\n",
    "- Data sets and its types\n",
    "- Machine learning Models\n",
    "- R\n",
    "- Github"
   ]
  },
  {
   "cell_type": "markdown",
   "id": "8cfb81aa-410b-42aa-a6cd-55c801e4d915",
   "metadata": {},
   "source": [
    "## Koneti Madhurya"
   ]
  },
  {
   "cell_type": "code",
   "execution_count": null,
   "id": "61b3decb-acc3-4669-8a3d-186ea81d1a67",
   "metadata": {},
   "outputs": [],
   "source": []
  }
 ],
 "metadata": {
  "kernelspec": {
   "display_name": "Python 3 (ipykernel)",
   "language": "python",
   "name": "python3"
  },
  "language_info": {
   "codemirror_mode": {
    "name": "ipython",
    "version": 3
   },
   "file_extension": ".py",
   "mimetype": "text/x-python",
   "name": "python",
   "nbconvert_exporter": "python",
   "pygments_lexer": "ipython3",
   "version": "3.12.8"
  }
 },
 "nbformat": 4,
 "nbformat_minor": 5
}
